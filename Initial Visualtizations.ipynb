{
 "cells": [
  {
   "cell_type": "code",
   "execution_count": 1,
   "metadata": {},
   "outputs": [],
   "source": [
    "from IPython.core.interactiveshell import InteractiveShell\n",
    "InteractiveShell.ast_node_interactivity = \"all\""
   ]
  },
  {
   "cell_type": "code",
   "execution_count": 2,
   "metadata": {},
   "outputs": [],
   "source": [
    "##### Load the libraries "
   ]
  },
  {
   "cell_type": "code",
   "execution_count": 3,
   "metadata": {},
   "outputs": [],
   "source": [
    "import pandas as pd\n",
    "import numpy as np\n",
    "# import matplotlib\n",
    "from matplotlib import pyplot as plt \n",
    "import seaborn as sns"
   ]
  },
  {
   "cell_type": "code",
   "execution_count": 4,
   "metadata": {},
   "outputs": [],
   "source": [
    "### Load the dataset"
   ]
  },
  {
   "cell_type": "code",
   "execution_count": 6,
   "metadata": {
    "scrolled": true
   },
   "outputs": [
    {
     "data": {
      "text/html": [
       "<div>\n",
       "<style scoped>\n",
       "    .dataframe tbody tr th:only-of-type {\n",
       "        vertical-align: middle;\n",
       "    }\n",
       "\n",
       "    .dataframe tbody tr th {\n",
       "        vertical-align: top;\n",
       "    }\n",
       "\n",
       "    .dataframe thead th {\n",
       "        text-align: right;\n",
       "    }\n",
       "</style>\n",
       "<table border=\"1\" class=\"dataframe\">\n",
       "  <thead>\n",
       "    <tr style=\"text-align: right;\">\n",
       "      <th></th>\n",
       "      <th>ObjectID</th>\n",
       "      <th>GlobalID</th>\n",
       "      <th>CreationDate</th>\n",
       "      <th>EditDate</th>\n",
       "      <th>Date of survey</th>\n",
       "      <th>Time of survey</th>\n",
       "      <th>Surveyor Name(s)</th>\n",
       "      <th>Building Type</th>\n",
       "      <th>Building Type Comments</th>\n",
       "      <th>SBE Foundation Type</th>\n",
       "      <th>...</th>\n",
       "      <th>Additional Comments</th>\n",
       "      <th>Elevation of lowest horizontal structural component (in.)</th>\n",
       "      <th>Size of stilts (in.)</th>\n",
       "      <th>Number of stilts</th>\n",
       "      <th>High water mark location (in.)</th>\n",
       "      <th>Damage State</th>\n",
       "      <th>Visible Damaged Components</th>\n",
       "      <th>Damage State Comments</th>\n",
       "      <th>Longitude</th>\n",
       "      <th>Latitude</th>\n",
       "    </tr>\n",
       "  </thead>\n",
       "  <tbody>\n",
       "    <tr>\n",
       "      <th>0</th>\n",
       "      <td>1</td>\n",
       "      <td>bacf194b-fbde-41b6-bf15-0ef9a82d33d7</td>\n",
       "      <td>2018-10-21 13:18:15</td>\n",
       "      <td>2018-10-21 13:18:15</td>\n",
       "      <td>2018-10-21 05:00:00</td>\n",
       "      <td>08:07:00</td>\n",
       "      <td>Elaina_Sutley,Thang_Dao,Jae_Kim,Hamed_Moftakha...</td>\n",
       "      <td>MHU - Manufactured home</td>\n",
       "      <td>NaN</td>\n",
       "      <td>NaN</td>\n",
       "      <td>...</td>\n",
       "      <td>NaN</td>\n",
       "      <td>24.0</td>\n",
       "      <td>na</td>\n",
       "      <td>na</td>\n",
       "      <td>na</td>\n",
       "      <td>NaN</td>\n",
       "      <td>wall,broken_window</td>\n",
       "      <td>Floof ripped off. Building appeared to be aban...</td>\n",
       "      <td>-85.711862</td>\n",
       "      <td>30.621384</td>\n",
       "    </tr>\n",
       "    <tr>\n",
       "      <th>1</th>\n",
       "      <td>2</td>\n",
       "      <td>dc4ca2b8-be23-46ea-8a44-9217fc820d71</td>\n",
       "      <td>2018-10-21 16:28:44</td>\n",
       "      <td>2018-10-21 16:28:44</td>\n",
       "      <td>2018-10-21 05:00:00</td>\n",
       "      <td>11:21:00</td>\n",
       "      <td>Josh_Hunt</td>\n",
       "      <td>MHU - Manufactured home</td>\n",
       "      <td>No</td>\n",
       "      <td>NaN</td>\n",
       "      <td>...</td>\n",
       "      <td>No</td>\n",
       "      <td>34.0</td>\n",
       "      <td>na</td>\n",
       "      <td>na</td>\n",
       "      <td>na</td>\n",
       "      <td>2.0</td>\n",
       "      <td>out-of-plane_wall_failure,detached_skirting</td>\n",
       "      <td>NaN</td>\n",
       "      <td>-85.417562</td>\n",
       "      <td>30.743594</td>\n",
       "    </tr>\n",
       "    <tr>\n",
       "      <th>2</th>\n",
       "      <td>3</td>\n",
       "      <td>0a8609f8-437d-4b67-8b68-676494085b5a</td>\n",
       "      <td>2018-10-21 16:28:52</td>\n",
       "      <td>2018-10-21 16:28:52</td>\n",
       "      <td>2018-10-21 05:00:00</td>\n",
       "      <td>11:16:00</td>\n",
       "      <td>Josh_Hunt</td>\n",
       "      <td>MHU - Manufactured home</td>\n",
       "      <td>No</td>\n",
       "      <td>NaN</td>\n",
       "      <td>...</td>\n",
       "      <td>No</td>\n",
       "      <td>30.0</td>\n",
       "      <td>na</td>\n",
       "      <td>na</td>\n",
       "      <td>na</td>\n",
       "      <td>1.0</td>\n",
       "      <td>detached_skirting,porch_damage</td>\n",
       "      <td>Door blown out, replaced with plywood</td>\n",
       "      <td>-85.418766</td>\n",
       "      <td>30.743720</td>\n",
       "    </tr>\n",
       "    <tr>\n",
       "      <th>3</th>\n",
       "      <td>4</td>\n",
       "      <td>9d15bd50-28b2-4028-9b9e-8efffd6e8440</td>\n",
       "      <td>2018-10-21 16:28:59</td>\n",
       "      <td>2018-10-21 16:28:59</td>\n",
       "      <td>2018-10-21 05:00:00</td>\n",
       "      <td>11:11:00</td>\n",
       "      <td>Josh_Hunt</td>\n",
       "      <td>MHU - Manufactured home</td>\n",
       "      <td>No</td>\n",
       "      <td>NaN</td>\n",
       "      <td>...</td>\n",
       "      <td>No</td>\n",
       "      <td>43.5</td>\n",
       "      <td>na</td>\n",
       "      <td>na</td>\n",
       "      <td>na</td>\n",
       "      <td>0.0</td>\n",
       "      <td>detached_skirting</td>\n",
       "      <td>NaN</td>\n",
       "      <td>-85.418922</td>\n",
       "      <td>30.743784</td>\n",
       "    </tr>\n",
       "    <tr>\n",
       "      <th>4</th>\n",
       "      <td>5</td>\n",
       "      <td>f52e15a5-ad5d-4503-9104-6f830bdd10f0</td>\n",
       "      <td>2018-10-21 16:29:08</td>\n",
       "      <td>2018-10-21 16:29:08</td>\n",
       "      <td>2018-10-21 05:00:00</td>\n",
       "      <td>10:26:00</td>\n",
       "      <td>Josh_Hunt</td>\n",
       "      <td>MHU - Manufactured home</td>\n",
       "      <td>No</td>\n",
       "      <td>NaN</td>\n",
       "      <td>...</td>\n",
       "      <td>No</td>\n",
       "      <td>40.0</td>\n",
       "      <td>na</td>\n",
       "      <td>na</td>\n",
       "      <td>na</td>\n",
       "      <td>1.0</td>\n",
       "      <td>detached_skirting,debris_or_impact_failure,wall</td>\n",
       "      <td>NaN</td>\n",
       "      <td>-85.365530</td>\n",
       "      <td>30.766108</td>\n",
       "    </tr>\n",
       "  </tbody>\n",
       "</table>\n",
       "<p>5 rows × 30 columns</p>\n",
       "</div>"
      ],
      "text/plain": [
       "   ObjectID                              GlobalID        CreationDate  \\\n",
       "0         1  bacf194b-fbde-41b6-bf15-0ef9a82d33d7 2018-10-21 13:18:15   \n",
       "1         2  dc4ca2b8-be23-46ea-8a44-9217fc820d71 2018-10-21 16:28:44   \n",
       "2         3  0a8609f8-437d-4b67-8b68-676494085b5a 2018-10-21 16:28:52   \n",
       "3         4  9d15bd50-28b2-4028-9b9e-8efffd6e8440 2018-10-21 16:28:59   \n",
       "4         5  f52e15a5-ad5d-4503-9104-6f830bdd10f0 2018-10-21 16:29:08   \n",
       "\n",
       "             EditDate      Date of survey Time of survey  \\\n",
       "0 2018-10-21 13:18:15 2018-10-21 05:00:00       08:07:00   \n",
       "1 2018-10-21 16:28:44 2018-10-21 05:00:00       11:21:00   \n",
       "2 2018-10-21 16:28:52 2018-10-21 05:00:00       11:16:00   \n",
       "3 2018-10-21 16:28:59 2018-10-21 05:00:00       11:11:00   \n",
       "4 2018-10-21 16:29:08 2018-10-21 05:00:00       10:26:00   \n",
       "\n",
       "                                   Surveyor Name(s)             Building Type  \\\n",
       "0  Elaina_Sutley,Thang_Dao,Jae_Kim,Hamed_Moftakha...  MHU - Manufactured home   \n",
       "1                                          Josh_Hunt  MHU - Manufactured home   \n",
       "2                                          Josh_Hunt  MHU - Manufactured home   \n",
       "3                                          Josh_Hunt  MHU - Manufactured home   \n",
       "4                                          Josh_Hunt  MHU - Manufactured home   \n",
       "\n",
       "  Building Type Comments SBE Foundation Type  ... Additional Comments  \\\n",
       "0                    NaN                 NaN  ...                 NaN   \n",
       "1                     No                 NaN  ...                  No   \n",
       "2                     No                 NaN  ...                  No   \n",
       "3                     No                 NaN  ...                  No   \n",
       "4                     No                 NaN  ...                  No   \n",
       "\n",
       "  Elevation of lowest horizontal structural component (in.)  \\\n",
       "0                                               24.0          \n",
       "1                                               34.0          \n",
       "2                                               30.0          \n",
       "3                                               43.5          \n",
       "4                                               40.0          \n",
       "\n",
       "  Size of stilts (in.) Number of stilts  High water mark location (in.)  \\\n",
       "0                   na               na                              na   \n",
       "1                   na               na                              na   \n",
       "2                   na               na                              na   \n",
       "3                   na               na                              na   \n",
       "4                   na               na                              na   \n",
       "\n",
       "  Damage State                       Visible Damaged Components  \\\n",
       "0          NaN                               wall,broken_window   \n",
       "1          2.0      out-of-plane_wall_failure,detached_skirting   \n",
       "2          1.0                   detached_skirting,porch_damage   \n",
       "3          0.0                                detached_skirting   \n",
       "4          1.0  detached_skirting,debris_or_impact_failure,wall   \n",
       "\n",
       "                               Damage State Comments  Longitude   Latitude  \n",
       "0  Floof ripped off. Building appeared to be aban... -85.711862  30.621384  \n",
       "1                                                NaN -85.417562  30.743594  \n",
       "2              Door blown out, replaced with plywood -85.418766  30.743720  \n",
       "3                                                NaN -85.418922  30.743784  \n",
       "4                                                NaN -85.365530  30.766108  \n",
       "\n",
       "[5 rows x 30 columns]"
      ]
     },
     "execution_count": 6,
     "metadata": {},
     "output_type": "execute_result"
    }
   ],
   "source": [
    "# print(pd.get_option(\"display.max_columns\"))\n",
    "# pd.set_option(\"display.max_columns\", 50)\n",
    "\n",
    "ip_df = pd.read_excel(\"/Users/Masi/Desktop/DS 440/HMichael_Data.xls\")\n",
    "ip_df.head(5)"
   ]
  },
  {
   "cell_type": "code",
   "execution_count": 7,
   "metadata": {},
   "outputs": [],
   "source": [
    "### Data validation, \n",
    "### Verifying size "
   ]
  },
  {
   "cell_type": "code",
   "execution_count": 8,
   "metadata": {},
   "outputs": [
    {
     "data": {
      "text/plain": [
       "(233, 30)"
      ]
     },
     "execution_count": 8,
     "metadata": {},
     "output_type": "execute_result"
    }
   ],
   "source": [
    "ip_df.shape"
   ]
  },
  {
   "cell_type": "code",
   "execution_count": 9,
   "metadata": {},
   "outputs": [],
   "source": [
    "#### Verify the data type of each column"
   ]
  },
  {
   "cell_type": "code",
   "execution_count": 10,
   "metadata": {
    "scrolled": false
   },
   "outputs": [
    {
     "data": {
      "text/plain": [
       "ObjectID                                                              int64\n",
       "GlobalID                                                             object\n",
       "CreationDate                                                 datetime64[ns]\n",
       "EditDate                                                     datetime64[ns]\n",
       "Date of survey                                               datetime64[ns]\n",
       "Time of survey                                                       object\n",
       "Surveyor Name(s)                                                     object\n",
       "Building Type                                                        object\n",
       "Building Type Comments                                               object\n",
       "SBE Foundation Type                                                  object\n",
       "Other - SBE Foundation Type                                          object\n",
       "MHU Foundation Type                                                  object\n",
       "Other - MHU Foundation Type                                          object\n",
       "Foundation Type Comments                                             object\n",
       "Number of above ground stories                                        int64\n",
       "Roof Type                                                            object\n",
       "Other - Roof Type                                                    object\n",
       "Roof Type Comments                                                   object\n",
       "MHU size                                                             object\n",
       "Other - MHU size                                                     object\n",
       "Additional Comments                                                  object\n",
       "Elevation of lowest horizontal structural component (in.)           float64\n",
       "Size of stilts (in.)                                                 object\n",
       "Number of stilts                                                     object\n",
       "High water mark location (in.)                                       object\n",
       "Damage State                                                        float64\n",
       "Visible Damaged Components                                           object\n",
       "Damage State Comments                                                object\n",
       "Longitude                                                           float64\n",
       "Latitude                                                            float64\n",
       "dtype: object"
      ]
     },
     "execution_count": 10,
     "metadata": {},
     "output_type": "execute_result"
    }
   ],
   "source": [
    "ip_df.dtypes"
   ]
  },
  {
   "cell_type": "code",
   "execution_count": 11,
   "metadata": {},
   "outputs": [],
   "source": [
    "#### Check NULL/NA value of each column"
   ]
  },
  {
   "cell_type": "code",
   "execution_count": 12,
   "metadata": {
    "scrolled": true
   },
   "outputs": [
    {
     "name": "stdout",
     "output_type": "stream",
     "text": [
      "<class 'pandas.core.frame.DataFrame'>\n",
      "RangeIndex: 233 entries, 0 to 232\n",
      "Data columns (total 30 columns):\n",
      " #   Column                                                     Non-Null Count  Dtype         \n",
      "---  ------                                                     --------------  -----         \n",
      " 0   ObjectID                                                   233 non-null    int64         \n",
      " 1   GlobalID                                                   233 non-null    object        \n",
      " 2   CreationDate                                               233 non-null    datetime64[ns]\n",
      " 3   EditDate                                                   233 non-null    datetime64[ns]\n",
      " 4   Date of survey                                             233 non-null    datetime64[ns]\n",
      " 5   Time of survey                                             233 non-null    object        \n",
      " 6   Surveyor Name(s)                                           233 non-null    object        \n",
      " 7   Building Type                                              233 non-null    object        \n",
      " 8   Building Type Comments                                     190 non-null    object        \n",
      " 9   SBE Foundation Type                                        69 non-null     object        \n",
      " 10  Other - SBE Foundation Type                                14 non-null     object        \n",
      " 11  MHU Foundation Type                                        164 non-null    object        \n",
      " 12  Other - MHU Foundation Type                                5 non-null      object        \n",
      " 13  Foundation Type Comments                                   190 non-null    object        \n",
      " 14  Number of above ground stories                             233 non-null    int64         \n",
      " 15  Roof Type                                                  233 non-null    object        \n",
      " 16  Other - Roof Type                                          19 non-null     object        \n",
      " 17  Roof Type Comments                                         20 non-null     object        \n",
      " 18  MHU size                                                   164 non-null    object        \n",
      " 19  Other - MHU size                                           2 non-null      object        \n",
      " 20  Additional Comments                                        193 non-null    object        \n",
      " 21  Elevation of lowest horizontal structural component (in.)  233 non-null    float64       \n",
      " 22  Size of stilts (in.)                                       233 non-null    object        \n",
      " 23  Number of stilts                                           233 non-null    object        \n",
      " 24  High water mark location (in.)                             232 non-null    object        \n",
      " 25  Damage State                                               229 non-null    float64       \n",
      " 26  Visible Damaged Components                                 233 non-null    object        \n",
      " 27  Damage State Comments                                      88 non-null     object        \n",
      " 28  Longitude                                                  233 non-null    float64       \n",
      " 29  Latitude                                                   233 non-null    float64       \n",
      "dtypes: datetime64[ns](3), float64(4), int64(2), object(21)\n",
      "memory usage: 54.7+ KB\n"
     ]
    }
   ],
   "source": [
    "ip_df.info()"
   ]
  },
  {
   "cell_type": "code",
   "execution_count": 13,
   "metadata": {},
   "outputs": [
    {
     "data": {
      "text/html": [
       "<div>\n",
       "<style scoped>\n",
       "    .dataframe tbody tr th:only-of-type {\n",
       "        vertical-align: middle;\n",
       "    }\n",
       "\n",
       "    .dataframe tbody tr th {\n",
       "        vertical-align: top;\n",
       "    }\n",
       "\n",
       "    .dataframe thead th {\n",
       "        text-align: right;\n",
       "    }\n",
       "</style>\n",
       "<table border=\"1\" class=\"dataframe\">\n",
       "  <thead>\n",
       "    <tr style=\"text-align: right;\">\n",
       "      <th></th>\n",
       "      <th>Building Type</th>\n",
       "      <th>Building Type Comments</th>\n",
       "      <th>SBE Foundation Type</th>\n",
       "      <th>Other - SBE Foundation Type</th>\n",
       "      <th>MHU Foundation Type</th>\n",
       "      <th>Other - MHU Foundation Type</th>\n",
       "      <th>Foundation Type Comments</th>\n",
       "      <th>Roof Type</th>\n",
       "      <th>Other - Roof Type</th>\n",
       "      <th>Roof Type Comments</th>\n",
       "      <th>MHU size</th>\n",
       "      <th>Other - MHU size</th>\n",
       "      <th>Additional Comments</th>\n",
       "      <th>Size of stilts (in.)</th>\n",
       "      <th>Number of stilts</th>\n",
       "      <th>High water mark location (in.)</th>\n",
       "      <th>Visible Damaged Components</th>\n",
       "      <th>Damage State Comments</th>\n",
       "    </tr>\n",
       "  </thead>\n",
       "  <tbody>\n",
       "    <tr>\n",
       "      <th>count</th>\n",
       "      <td>233</td>\n",
       "      <td>190</td>\n",
       "      <td>69</td>\n",
       "      <td>14</td>\n",
       "      <td>164</td>\n",
       "      <td>5</td>\n",
       "      <td>190</td>\n",
       "      <td>233</td>\n",
       "      <td>19</td>\n",
       "      <td>20</td>\n",
       "      <td>164</td>\n",
       "      <td>2</td>\n",
       "      <td>193</td>\n",
       "      <td>233</td>\n",
       "      <td>233</td>\n",
       "      <td>232</td>\n",
       "      <td>233</td>\n",
       "      <td>88</td>\n",
       "    </tr>\n",
       "    <tr>\n",
       "      <th>unique</th>\n",
       "      <td>2</td>\n",
       "      <td>18</td>\n",
       "      <td>15</td>\n",
       "      <td>10</td>\n",
       "      <td>24</td>\n",
       "      <td>5</td>\n",
       "      <td>23</td>\n",
       "      <td>5</td>\n",
       "      <td>13</td>\n",
       "      <td>6</td>\n",
       "      <td>3</td>\n",
       "      <td>2</td>\n",
       "      <td>12</td>\n",
       "      <td>32</td>\n",
       "      <td>29</td>\n",
       "      <td>6</td>\n",
       "      <td>157</td>\n",
       "      <td>81</td>\n",
       "    </tr>\n",
       "    <tr>\n",
       "      <th>top</th>\n",
       "      <td>MHU - Manufactured home</td>\n",
       "      <td>Na</td>\n",
       "      <td>elevated_on_stilts</td>\n",
       "      <td>Shed</td>\n",
       "      <td>chassis_system,stacked_block_footers,engineere...</td>\n",
       "      <td>Cannot see under</td>\n",
       "      <td>Na</td>\n",
       "      <td>Gable</td>\n",
       "      <td>Arched</td>\n",
       "      <td>Na</td>\n",
       "      <td>Single-wide</td>\n",
       "      <td>Single wide with on site add on</td>\n",
       "      <td>Na</td>\n",
       "      <td>na</td>\n",
       "      <td>na</td>\n",
       "      <td>na</td>\n",
       "      <td>detached_skirting</td>\n",
       "      <td>Tree fall</td>\n",
       "    </tr>\n",
       "    <tr>\n",
       "      <th>freq</th>\n",
       "      <td>164</td>\n",
       "      <td>97</td>\n",
       "      <td>23</td>\n",
       "      <td>3</td>\n",
       "      <td>75</td>\n",
       "      <td>1</td>\n",
       "      <td>91</td>\n",
       "      <td>175</td>\n",
       "      <td>4</td>\n",
       "      <td>11</td>\n",
       "      <td>146</td>\n",
       "      <td>1</td>\n",
       "      <td>100</td>\n",
       "      <td>168</td>\n",
       "      <td>169</td>\n",
       "      <td>227</td>\n",
       "      <td>26</td>\n",
       "      <td>4</td>\n",
       "    </tr>\n",
       "  </tbody>\n",
       "</table>\n",
       "</div>"
      ],
      "text/plain": [
       "                  Building Type Building Type Comments SBE Foundation Type  \\\n",
       "count                       233                    190                  69   \n",
       "unique                        2                     18                  15   \n",
       "top     MHU - Manufactured home                     Na  elevated_on_stilts   \n",
       "freq                        164                     97                  23   \n",
       "\n",
       "       Other - SBE Foundation Type  \\\n",
       "count                           14   \n",
       "unique                          10   \n",
       "top                           Shed   \n",
       "freq                             3   \n",
       "\n",
       "                                      MHU Foundation Type  \\\n",
       "count                                                 164   \n",
       "unique                                                 24   \n",
       "top     chassis_system,stacked_block_footers,engineere...   \n",
       "freq                                                   75   \n",
       "\n",
       "       Other - MHU Foundation Type Foundation Type Comments Roof Type  \\\n",
       "count                            5                      190       233   \n",
       "unique                           5                       23         5   \n",
       "top               Cannot see under                       Na     Gable   \n",
       "freq                             1                       91       175   \n",
       "\n",
       "       Other - Roof Type Roof Type Comments     MHU size  \\\n",
       "count                 19                 20          164   \n",
       "unique                13                  6            3   \n",
       "top               Arched                 Na  Single-wide   \n",
       "freq                   4                 11          146   \n",
       "\n",
       "                       Other - MHU size Additional Comments  \\\n",
       "count                                 2                 193   \n",
       "unique                                2                  12   \n",
       "top     Single wide with on site add on                  Na   \n",
       "freq                                  1                 100   \n",
       "\n",
       "       Size of stilts (in.) Number of stilts High water mark location (in.)  \\\n",
       "count                   233              233                            232   \n",
       "unique                   32               29                              6   \n",
       "top                      na               na                             na   \n",
       "freq                    168              169                            227   \n",
       "\n",
       "       Visible Damaged Components Damage State Comments  \n",
       "count                         233                    88  \n",
       "unique                        157                    81  \n",
       "top             detached_skirting             Tree fall  \n",
       "freq                           26                     4  "
      ]
     },
     "execution_count": 13,
     "metadata": {},
     "output_type": "execute_result"
    }
   ],
   "source": [
    "pd.set_option('display.max_columns', None)\n",
    "pd.set_option('display.max_rows', None)\n",
    "#### Describe the Object varibale\n",
    "ip_df.iloc[:, 7:].describe(include=[object])  \n",
    "# ip_df.describe()  "
   ]
  },
  {
   "cell_type": "code",
   "execution_count": null,
   "metadata": {},
   "outputs": [],
   "source": [
    "### Damage State - data distribution"
   ]
  },
  {
   "cell_type": "code",
   "execution_count": 14,
   "metadata": {},
   "outputs": [
    {
     "name": "stdout",
     "output_type": "stream",
     "text": [
      "Damage State : \n"
     ]
    },
    {
     "data": {
      "text/plain": [
       "2.0    82\n",
       "1.0    69\n",
       "3.0    34\n",
       "4.0    24\n",
       "0.0    20\n",
       "Name: Damage State, dtype: int64"
      ]
     },
     "execution_count": 14,
     "metadata": {},
     "output_type": "execute_result"
    }
   ],
   "source": [
    "print(\"Damage State : \")\n",
    "ip_df['Damage State'].value_counts()\n",
    "# list(ip_df['Damage State'].value_counts())\n",
    "# ip_df['Damage State'].value_counts().sum()\n",
    "# ip_df['Damage State'].isnull().sum()"
   ]
  },
  {
   "cell_type": "code",
   "execution_count": 15,
   "metadata": {},
   "outputs": [],
   "source": [
    "## Create separate column - scale description\n",
    "### Based on the Damage State,  creating label (User understanding) for each State"
   ]
  },
  {
   "cell_type": "code",
   "execution_count": 16,
   "metadata": {},
   "outputs": [],
   "source": [
    "ip_df['demage_scale'] = np.where(\n",
    "    ip_df['Damage State'] == 0, 'No Demage', np.where(\n",
    "    ip_df['Damage State'] ==1, 'Minor Demage', np.where(\n",
    "    ip_df['Damage State'] ==2, 'Moderate Demage', np.where(\n",
    "    ip_df['Damage State'] ==3, 'Severe Demage', np.where(\n",
    "    ip_df['Damage State'] ==4, 'Destruction', 'NA'))))) "
   ]
  },
  {
   "cell_type": "code",
   "execution_count": 17,
   "metadata": {},
   "outputs": [],
   "source": [
    "## replace null value, in demage state"
   ]
  },
  {
   "cell_type": "code",
   "execution_count": 18,
   "metadata": {},
   "outputs": [],
   "source": [
    "ip_df['Damage State'] = ip_df['Damage State'].fillna(10)"
   ]
  },
  {
   "cell_type": "code",
   "execution_count": 19,
   "metadata": {},
   "outputs": [],
   "source": [
    "## data distribution - by class Damage State"
   ]
  },
  {
   "cell_type": "code",
   "execution_count": 20,
   "metadata": {},
   "outputs": [
    {
     "name": "stdout",
     "output_type": "stream",
     "text": [
      "Damage Scale : \n"
     ]
    },
    {
     "data": {
      "text/plain": [
       "Moderate Demage    82\n",
       "Minor Demage       69\n",
       "Severe Demage      34\n",
       "Destruction        24\n",
       "No Demage          20\n",
       "NA                  4\n",
       "Name: demage_scale, dtype: int64"
      ]
     },
     "execution_count": 20,
     "metadata": {},
     "output_type": "execute_result"
    }
   ],
   "source": [
    "# list(ip_df['Damage State'].value_counts())\n",
    "# list(ip_df['demage_scale'].unique())\n",
    "print(\"Damage Scale : \")\n",
    "ip_df['demage_scale'].value_counts()\n"
   ]
  },
  {
   "cell_type": "code",
   "execution_count": 146,
   "metadata": {},
   "outputs": [
    {
     "data": {
      "text/plain": [
       "<matplotlib.axes._subplots.AxesSubplot at 0x7f76af5020f0>"
      ]
     },
     "execution_count": 146,
     "metadata": {},
     "output_type": "execute_result"
    },
    {
     "data": {
      "image/png": "[encoded data removed]",
      "text/plain": [
       "<Figure size 770.4x379.44 with 1 Axes>"
      ]
     },
     "metadata": {},
     "output_type": "display_data"
    }
   ],
   "source": [
    "sns.set(rc={'figure.figsize':(10.7,5.27)})\n",
    "sns.countplot(x=\"demage_scale\", data=ip_df, order = ip_df['demage_scale'].value_counts().index)"
   ]
  },
  {
   "cell_type": "code",
   "execution_count": null,
   "metadata": {},
   "outputs": [],
   "source": [
    "### Visible Dameged Components\n",
    "#### There are multiple Visible Damaged Components in each house due to hurricanes\n",
    "### Which component is damaged more.  "
   ]
  },
  {
   "cell_type": "code",
   "execution_count": 19,
   "metadata": {
    "scrolled": true
   },
   "outputs": [
    {
     "name": "stdout",
     "output_type": "stream",
     "text": [
      "Top 10 Visual Damage Components are ...\n"
     ]
    },
    {
     "data": {
      "text/plain": [
       "detached_skirting                154\n",
       "detached_siding                  131\n",
       "roof                              99\n",
       "wall                              96\n",
       "broken_window                     43\n",
       "foundation                        43\n",
       "roof_shingle_loss                 42\n",
       "debris_or_impact_failure          40\n",
       "porch_damage                      37\n",
       "out-of-plane_wall_failure         31\n",
       "roof_sheathing_connection         28\n",
       "wall_sheathing_connection         26\n",
       "wall_sheathing_failure            21\n",
       "roof_to_wall_connection           16\n",
       "detached_or_damaged_gutter        10\n",
       "wall_to_foundation_connection      9\n",
       "stilt_damage                       7\n",
       "none_or_NA                         7\n",
       "in-plane_wall_failure              6\n",
       "garage_door_damage                 5\n",
       "carport_damage                     4\n",
       "Name: vdc, dtype: int64"
      ]
     },
     "execution_count": 19,
     "metadata": {},
     "output_type": "execute_result"
    },
    {
     "data": {
      "text/plain": [
       "<matplotlib.axes._subplots.AxesSubplot at 0x7fb3866472b0>"
      ]
     },
     "execution_count": 19,
     "metadata": {},
     "output_type": "execute_result"
    },
    {
     "data": {
      "image/png": "[encoded data removed]",
      "text/plain": [
       "<Figure size 432x288 with 1 Axes>"
      ]
     },
     "metadata": {
      "needs_background": "light"
     },
     "output_type": "display_data"
    }
   ],
   "source": [
    "damge_lst = []\n",
    "for item in ip_df['Visible Damaged Components'].str.split(','):\n",
    "    damge_lst.extend(item)\n",
    "\n",
    "print(\"Top 10 Visual Damage Components are ...\")\n",
    "vdc['vdc'].value_counts()\n",
    "vdc = pd.DataFrame(damge_lst, columns=['vdc'])\n",
    "sns.countplot(y=\"vdc\", data=vdc, order = vdc['vdc'].value_counts().index)\n"
   ]
  },
  {
   "cell_type": "code",
   "execution_count": null,
   "metadata": {},
   "outputs": [],
   "source": [
    "### Building type vs Damage,\n",
    "#### We have only two diffeent Building Type's"
   ]
  },
  {
   "cell_type": "code",
   "execution_count": 20,
   "metadata": {},
   "outputs": [
    {
     "name": "stdout",
     "output_type": "stream",
     "text": [
      "Type of Buildings are..\n"
     ]
    },
    {
     "data": {
      "text/plain": [
       "MHU - Manufactured home               164\n",
       "SBE - Site-built elevated building     69\n",
       "Name: Building Type, dtype: int64"
      ]
     },
     "execution_count": 20,
     "metadata": {},
     "output_type": "execute_result"
    }
   ],
   "source": [
    "print(\"Type of Buildings are..\")\n",
    "ip_df['Building Type'].value_counts()"
   ]
  },
  {
   "cell_type": "code",
   "execution_count": null,
   "metadata": {},
   "outputs": [],
   "source": [
    "### Comparing Damage level with Building Type."
   ]
  },
  {
   "cell_type": "code",
   "execution_count": 267,
   "metadata": {
    "scrolled": true
   },
   "outputs": [
    {
     "data": {
      "text/plain": [
       "<matplotlib.axes._subplots.AxesSubplot at 0x7f76aec6d828>"
      ]
     },
     "execution_count": 267,
     "metadata": {},
     "output_type": "execute_result"
    },
    {
     "data": {
      "image/png": "[encoded data removed]",
      "text/plain": [
       "<Figure size 770.4x379.44 with 1 Axes>"
      ]
     },
     "metadata": {},
     "output_type": "display_data"
    }
   ],
   "source": [
    "# ip_df.head(1)\n",
    "# sns.barplot(y=\"Building Type\",x='Damage State', data=ip_df)\n",
    "sns.countplot(x=\"Building Type\", hue=\"demage_scale\", data=ip_df) \n",
    "# ip_df.describe()"
   ]
  },
  {
   "cell_type": "code",
   "execution_count": 208,
   "metadata": {},
   "outputs": [
    {
     "data": {
      "text/plain": [
       "1    210\n",
       "2     21\n",
       "3      2\n",
       "Name: Number of above ground stories, dtype: int64"
      ]
     },
     "execution_count": 208,
     "metadata": {},
     "output_type": "execute_result"
    },
    {
     "data": {
      "text/plain": [
       "<matplotlib.axes._subplots.AxesSubplot at 0x7f76aebd90f0>"
      ]
     },
     "execution_count": 208,
     "metadata": {},
     "output_type": "execute_result"
    },
    {
     "data": {
      "image/png": "[encoded data removed]",
      "text/plain": [
       "<Figure size 770.4x379.44 with 1 Axes>"
      ]
     },
     "metadata": {},
     "output_type": "display_data"
    }
   ],
   "source": [
    "ip_df['Number of above ground stories'].value_counts()\n",
    "sns.countplot(x=\"Number of above ground stories\", data=ip_df)"
   ]
  },
  {
   "cell_type": "code",
   "execution_count": 212,
   "metadata": {
    "scrolled": true
   },
   "outputs": [],
   "source": [
    "# sns.countplot(x=\"demage_scale\", hue=\"Number of above ground stories\", data=ip_df)\n",
    "# sns.countplot(x=\"Number of above ground stories\", hue='demage_scale' , data=ip_df)"
   ]
  },
  {
   "cell_type": "code",
   "execution_count": 213,
   "metadata": {},
   "outputs": [],
   "source": [
    "# ip_df.describe()"
   ]
  },
  {
   "cell_type": "code",
   "execution_count": null,
   "metadata": {},
   "outputs": [],
   "source": [
    "### Damage Vs Roof Type"
   ]
  },
  {
   "cell_type": "code",
   "execution_count": 166,
   "metadata": {},
   "outputs": [
    {
     "data": {
      "text/plain": [
       "<matplotlib.axes._subplots.AxesSubplot at 0x7f76b041ca20>"
      ]
     },
     "execution_count": 166,
     "metadata": {},
     "output_type": "execute_result"
    },
    {
     "data": {
      "image/png": "[encoded data removed]",
      "text/plain": [
       "<Figure size 770.4x379.44 with 1 Axes>"
      ]
     },
     "metadata": {},
     "output_type": "display_data"
    }
   ],
   "source": [
    "# d.loc[d.column1 == 1].iloc[:, 2:]\n",
    "sns.countplot(x='Roof Type', data=ip_df.loc[ip_df['Damage State']!=10 ,], hue='Damage State')"
   ]
  },
  {
   "cell_type": "code",
   "execution_count": null,
   "metadata": {},
   "outputs": [],
   "source": [
    "#### Roof Type and Building Type"
   ]
  },
  {
   "cell_type": "code",
   "execution_count": 22,
   "metadata": {},
   "outputs": [
    {
     "data": {
      "text/plain": [
       "MHU - Manufactured home               164\n",
       "SBE - Site-built elevated building     69\n",
       "Name: Building Type, dtype: int64"
      ]
     },
     "execution_count": 22,
     "metadata": {},
     "output_type": "execute_result"
    },
    {
     "data": {
      "text/plain": [
       "Gable        175\n",
       "Hip           36\n",
       "other         20\n",
       "Monoslope      1\n",
       "choice3        1\n",
       "Name: Roof Type, dtype: int64"
      ]
     },
     "execution_count": 22,
     "metadata": {},
     "output_type": "execute_result"
    },
    {
     "data": {
      "text/plain": [
       "Roof Type  Building Type                     \n",
       "Gable      MHU - Manufactured home               142\n",
       "           SBE - Site-built elevated building     33\n",
       "Hip        MHU - Manufactured home                 3\n",
       "           SBE - Site-built elevated building     33\n",
       "Monoslope  MHU - Manufactured home                 1\n",
       "choice3    MHU - Manufactured home                 1\n",
       "other      MHU - Manufactured home                17\n",
       "           SBE - Site-built elevated building      3\n",
       "Name: Building Type, dtype: int64"
      ]
     },
     "execution_count": 22,
     "metadata": {},
     "output_type": "execute_result"
    },
    {
     "data": {
      "text/plain": [
       "<matplotlib.axes._subplots.AxesSubplot at 0x7fb386510c88>"
      ]
     },
     "execution_count": 22,
     "metadata": {},
     "output_type": "execute_result"
    },
    {
     "data": {
      "image/png": "[encoded data removed]",
      "text/plain": [
       "<Figure size 432x288 with 1 Axes>"
      ]
     },
     "metadata": {
      "needs_background": "light"
     },
     "output_type": "display_data"
    }
   ],
   "source": [
    "ip_df[ 'Building Type'].value_counts()\n",
    "ip_df['Roof Type'].value_counts()\n",
    "\n",
    "ip_df.groupby(['Roof Type','Building Type'])['Building Type'].count()\n",
    "sns.countplot(x='Roof Type', data=ip_df.loc[ip_df['Building Type']!=10 ,], hue='Damage State')"
   ]
  },
  {
   "cell_type": "code",
   "execution_count": 241,
   "metadata": {},
   "outputs": [
    {
     "data": {
      "text/plain": [
       "<matplotlib.axes._subplots.AxesSubplot at 0x7f76accf8198>"
      ]
     },
     "execution_count": 241,
     "metadata": {},
     "output_type": "execute_result"
    },
    {
     "data": {
      "image/png": "[encoded data removed]",
      "text/plain": [
       "<Figure size 770.4x379.44 with 1 Axes>"
      ]
     },
     "metadata": {},
     "output_type": "display_data"
    }
   ],
   "source": [
    "sns.countplot(x='Roof Type', data=ip_df.loc[ip_df['Damage State']!=10 ,],  hue='Building Type')"
   ]
  },
  {
   "cell_type": "code",
   "execution_count": null,
   "metadata": {},
   "outputs": [],
   "source": [
    "#### Impact of Elevation of lowest horizontal structural componen for the Damage\n",
    "\n",
    "### just trying to identify the mean value for each Damage State.\n",
    "\n",
    "### higher mean value of horizontal structural component, will cause moderate damage, \n",
    "### there is not much difference in less and heavy damage, structural component values."
   ]
  },
  {
   "cell_type": "code",
   "execution_count": 23,
   "metadata": {
    "scrolled": false
   },
   "outputs": [
    {
     "name": "stdout",
     "output_type": "stream",
     "text": [
      "Damage State and Mean Value\n"
     ]
    },
    {
     "data": {
      "text/plain": [
       "Damage State\n",
       "0.0    37.200000\n",
       "1.0    46.731884\n",
       "2.0    57.853659\n",
       "3.0    47.691176\n",
       "4.0    45.833333\n",
       "Name: Elevation of lowest horizontal structural component (in.), dtype: float64"
      ]
     },
     "execution_count": 23,
     "metadata": {},
     "output_type": "execute_result"
    },
    {
     "data": {
      "text/plain": [
       "<matplotlib.axes._subplots.AxesSubplot at 0x7fb38644c780>"
      ]
     },
     "execution_count": 23,
     "metadata": {},
     "output_type": "execute_result"
    },
    {
     "data": {
      "image/png": "[encoded data removed]",
      "text/plain": [
       "<Figure size 432x288 with 1 Axes>"
      ]
     },
     "metadata": {
      "needs_background": "light"
     },
     "output_type": "display_data"
    }
   ],
   "source": [
    "print(\"Damage State and Mean Value\")\n",
    "ip_df.groupby(['Damage State'])['Elevation of lowest horizontal structural component (in.)'].mean()\n",
    "sns.lineplot(x = 'Damage State',y = 'Elevation of lowest horizontal structural component (in.)', data=ip_df.loc[ip_df['Damage State']!=10  ,])"
   ]
  },
  {
   "cell_type": "code",
   "execution_count": null,
   "metadata": {},
   "outputs": [],
   "source": []
  },
  {
   "cell_type": "code",
   "execution_count": null,
   "metadata": {
    "scrolled": true
   },
   "outputs": [],
   "source": []
  },
  {
   "cell_type": "code",
   "execution_count": null,
   "metadata": {},
   "outputs": [],
   "source": []
  },
  {
   "cell_type": "code",
   "execution_count": null,
   "metadata": {},
   "outputs": [],
   "source": []
  },
  {
   "cell_type": "code",
   "execution_count": null,
   "metadata": {},
   "outputs": [],
   "source": []
  }
 ],
 "metadata": {
  "kernelspec": {
   "display_name": "Python 3",
   "language": "python",
   "name": "python3"
  },
  "language_info": {
   "codemirror_mode": {
    "name": "ipython",
    "version": 3
   },
   "file_extension": ".py",
   "mimetype": "text/x-python",
   "name": "python",
   "nbconvert_exporter": "python",
   "pygments_lexer": "ipython3",
   "version": "3.7.9"
  }
 },
 "nbformat": 4,
 "nbformat_minor": 4
}
