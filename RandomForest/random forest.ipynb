{
 "cells": [
  {
   "cell_type": "code",
   "execution_count": 1,
   "metadata": {},
   "outputs": [
    {
     "name": "stderr",
     "output_type": "stream",
     "text": [
      "/Library/Frameworks/Python.framework/Versions/3.7/lib/python3.7/site-packages/requests/__init__.py:91: RequestsDependencyWarning: urllib3 (1.26.3) or chardet (3.0.4) doesn't match a supported version!\n",
      "  RequestsDependencyWarning)\n"
     ]
    }
   ],
   "source": [
    "import pandas as pd\n",
    "from sklearn.feature_extraction.text import CountVectorizer\n",
    "from tensorflow import one_hot\n",
    "import numpy as np\n",
    "from sklearn.preprocessing import MinMaxScaler"
   ]
  },
  {
   "cell_type": "code",
   "execution_count": 2,
   "metadata": {},
   "outputs": [],
   "source": [
    "df = pd.read_csv('/Users/manikmukherjee/OneDrive - The Pennsylvania State University/semester 6/DS 440/PRJ-2301/D1. Building Assessments/building data.csv')"
   ]
  },
  {
   "cell_type": "code",
   "execution_count": 25,
   "metadata": {},
   "outputs": [],
   "source": [
    "# df.head()"
   ]
  },
  {
   "cell_type": "code",
   "execution_count": 3,
   "metadata": {},
   "outputs": [],
   "source": [
    "df1 = df.drop(['ObjectID', 'GlobalID', 'CreationDate','EditDate','Date of survey','Size of stilts (in.)','High water mark location (in.)','Number of stilts',\"Other - MHU size\",\"Roof Type Comments\",\"Foundation Type Comments\",\"Other - MHU Foundation Type\",'Time of survey','Additional Comments','Building Type Comments'], axis=1).iloc[:,1:]"
   ]
  },
  {
   "cell_type": "code",
   "execution_count": 27,
   "metadata": {},
   "outputs": [],
   "source": [
    "# df1.head()"
   ]
  },
  {
   "cell_type": "code",
   "execution_count": 4,
   "metadata": {},
   "outputs": [],
   "source": [
    "new1 = pd.get_dummies(df1[\"Building Type\"])\n",
    "new2 = df1[\"SBE Foundation Type\"].str.get_dummies(sep=',')\n",
    "\n",
    "# for this maybe just put in a 1 if it is not an NAN and a 0 if NAN??\n",
    "df1[\"Other - SBE Foundation Type\"].str.get_dummies(sep=',')\n",
    "\n",
    "new4 = df1[\"MHU Foundation Type\"].str.get_dummies(sep=',')\n",
    "new5 = df1[\"Roof Type\"].str.get_dummies(sep=',')\n",
    "\n",
    "# maybe just 1 or 0 again? \n",
    "df1[\"Other - Roof Type\"].str.get_dummies(sep=',')\n",
    "\n",
    "new7 = df1[\"MHU size\"].str.get_dummies(sep=',')\n",
    "\n",
    "df2 = pd.concat([df1, new1, new2, new4, new5, new7], axis=1)\n",
    "df2 = df2.drop(['Building Type', 'SBE Foundation Type', 'Other - SBE Foundation Type', 'MHU Foundation Type', 'Roof Type','Other - Roof Type','MHU size'],axis=1)\n",
    "\n",
    "def count(x):\n",
    "    return len(str(x).split(','))\n",
    "\n",
    "df2[\"Visible Damaged Components\"] = df2[\"Visible Damaged Components\"].apply(lambda x: count(x))\n",
    "df2['Damage State Comments'] = df2['Damage State Comments'].apply(lambda x: len(str(x)))\n",
    "\n",
    "# add random column to test as a null hypothesis\n",
    "\n",
    "df2['rand_features'] = np.random.randn(len(df2))"
   ]
  },
  {
   "cell_type": "code",
   "execution_count": 7,
   "metadata": {},
   "outputs": [
    {
     "data": {
      "text/plain": [
       "Index(['ObjectID', 'GlobalID', 'CreationDate', 'EditDate', 'Date of survey',\n",
       "       'Time of survey', 'Surveyor Name(s) ', 'Building Type',\n",
       "       'Building Type Comments', 'SBE Foundation Type',\n",
       "       'Other - SBE Foundation Type', 'MHU Foundation Type',\n",
       "       'Other - MHU Foundation Type', 'Foundation Type Comments',\n",
       "       'Number of above ground stories', 'Roof Type', 'Other - Roof Type',\n",
       "       'Roof Type Comments', 'MHU size', 'Other - MHU size',\n",
       "       'Additional Comments',\n",
       "       'Elevation of lowest horizontal structural component (in.)',\n",
       "       'Size of stilts (in.)', 'Number of stilts',\n",
       "       'High water mark location (in.)', 'Damage State',\n",
       "       'Visible Damaged Components', 'Damage State Comments', 'Longitude',\n",
       "       'Latitude'],\n",
       "      dtype='object')"
      ]
     },
     "execution_count": 7,
     "metadata": {},
     "output_type": "execute_result"
    }
   ],
   "source": [
    "df.columns"
   ]
  },
  {
   "cell_type": "code",
   "execution_count": 50,
   "metadata": {},
   "outputs": [],
   "source": [
    "# import geopandas as gpd\n",
    "# from shapely.geometry import Point, Polygon\n",
    "\n",
    "# street_map = gpd.read_file('/Users/manikmukherjee/OneDrive - The Pennsylvania State University/semester 6/DS 440/tl_2016_12_cousub/tl_2016_12_cousub.shp')\n",
    "# geometry = [Point(xy) for xy in zip(df[\"Longitude\"], df[\"Latitude\"])]\n",
    "\n",
    "# new = gpd.GeoDataFrame(geometry,columns=['geometry'])\n",
    "# new.crs = \"EPSG:2238\"\n",
    "# new.to_crs(epsg=2238, inplace=True)\n",
    "\n",
    "# street_map.crs = \"EPSG:2238\"\n",
    "# street_map.to_crs(epsg=2238, inplace=True)\n",
    "\n",
    "# #find distance from all of the points to the shapfile in meters\n",
    "# df2['dist_from_shore'] = new.geometry.apply(lambda x: street_map.distance(x).min())"
   ]
  },
  {
   "cell_type": "code",
   "execution_count": 5,
   "metadata": {},
   "outputs": [],
   "source": [
    "import geopandas as gpd\n",
    "from shapely.geometry import Point, Polygon\n",
    "\n",
    "street_map = gpd.read_file('/Users/manikmukherjee/Downloads/cb_2018_us_state_500k/cb_2018_us_state_500k.shp')\n",
    "geometry = [Point(xy) for xy in zip(df[\"Longitude\"], df[\"Latitude\"])]\n",
    "\n",
    "new = gpd.GeoDataFrame(geometry,columns=['geometry'])\n",
    "new.crs = \"EPSG:2238\"\n",
    "new.to_crs(epsg=2238, inplace=True)\n",
    "\n",
    "street_map = street_map.iloc[9,:]\n",
    "street_map = gpd.GeoSeries(street_map.geometry)\n",
    "\n",
    "#find distance from all of the points to the shapfile in meters\n",
    "df2['dist_from_shore'] = new.geometry.apply(lambda x: street_map.boundary.distance(x))"
   ]
  },
  {
   "cell_type": "code",
   "execution_count": 53,
   "metadata": {},
   "outputs": [
    {
     "name": "stderr",
     "output_type": "stream",
     "text": [
      "/Library/Frameworks/Python.framework/Versions/3.7/lib/python3.7/site-packages/ipykernel_launcher.py:1: FutureWarning: The signature of `Series.to_csv` was aligned to that of `DataFrame.to_csv`, and argument 'header' will change its default value from False to True: please pass an explicit value to suppress this warning.\n",
      "  \"\"\"Entry point for launching an IPython kernel.\n"
     ]
    }
   ],
   "source": [
    "df2['dist_from_shore'].to_csv('michael distance from shore.csv')"
   ]
  },
  {
   "cell_type": "code",
   "execution_count": 6,
   "metadata": {},
   "outputs": [],
   "source": [
    "df2 = df2.dropna(subset=['Damage State'])\n",
    "df2 = df2.fillna(0)\n",
    "x, y = df2.drop(['Damage State'],axis=1), one_hot(df2['Damage State'],5)"
   ]
  },
  {
   "cell_type": "code",
   "execution_count": 7,
   "metadata": {},
   "outputs": [],
   "source": [
    "x_scaled = MinMaxScaler().fit_transform(x)"
   ]
  },
  {
   "cell_type": "code",
   "execution_count": 8,
   "metadata": {
    "scrolled": true
   },
   "outputs": [
    {
     "name": "stderr",
     "output_type": "stream",
     "text": [
      "/Library/Frameworks/Python.framework/Versions/3.7/lib/python3.7/site-packages/sklearn/ensemble/forest.py:245: FutureWarning: The default value of n_estimators will change from 10 in version 0.20 to 100 in 0.22.\n",
      "  \"10 in version 0.20 to 100 in 0.22.\", FutureWarning)\n"
     ]
    },
    {
     "data": {
      "text/html": [
       "<div>\n",
       "<style scoped>\n",
       "    .dataframe tbody tr th:only-of-type {\n",
       "        vertical-align: middle;\n",
       "    }\n",
       "\n",
       "    .dataframe tbody tr th {\n",
       "        vertical-align: top;\n",
       "    }\n",
       "\n",
       "    .dataframe thead th {\n",
       "        text-align: right;\n",
       "    }\n",
       "</style>\n",
       "<table border=\"1\" class=\"dataframe\">\n",
       "  <thead>\n",
       "    <tr style=\"text-align: right;\">\n",
       "      <th></th>\n",
       "      <th>name</th>\n",
       "      <th>importance</th>\n",
       "    </tr>\n",
       "  </thead>\n",
       "  <tbody>\n",
       "    <tr>\n",
       "      <th>2</th>\n",
       "      <td>Visible Damaged Components</td>\n",
       "      <td>0.151648</td>\n",
       "    </tr>\n",
       "    <tr>\n",
       "      <th>5</th>\n",
       "      <td>Latitude</td>\n",
       "      <td>0.148884</td>\n",
       "    </tr>\n",
       "    <tr>\n",
       "      <th>30</th>\n",
       "      <td>dist_from_shore</td>\n",
       "      <td>0.136423</td>\n",
       "    </tr>\n",
       "    <tr>\n",
       "      <th>4</th>\n",
       "      <td>Longitude</td>\n",
       "      <td>0.113081</td>\n",
       "    </tr>\n",
       "    <tr>\n",
       "      <th>29</th>\n",
       "      <td>rand_features</td>\n",
       "      <td>0.111516</td>\n",
       "    </tr>\n",
       "    <tr>\n",
       "      <th>1</th>\n",
       "      <td>Elevation of lowest horizontal structural comp...</td>\n",
       "      <td>0.107005</td>\n",
       "    </tr>\n",
       "    <tr>\n",
       "      <th>3</th>\n",
       "      <td>Damage State Comments</td>\n",
       "      <td>0.053243</td>\n",
       "    </tr>\n",
       "    <tr>\n",
       "      <th>17</th>\n",
       "      <td>engineered_anchorage_devices</td>\n",
       "      <td>0.020255</td>\n",
       "    </tr>\n",
       "    <tr>\n",
       "      <th>16</th>\n",
       "      <td>chassis_system</td>\n",
       "      <td>0.019205</td>\n",
       "    </tr>\n",
       "    <tr>\n",
       "      <th>21</th>\n",
       "      <td>Gable</td>\n",
       "      <td>0.017701</td>\n",
       "    </tr>\n",
       "    <tr>\n",
       "      <th>12</th>\n",
       "      <td>elevated_on_stilts</td>\n",
       "      <td>0.016728</td>\n",
       "    </tr>\n",
       "    <tr>\n",
       "      <th>0</th>\n",
       "      <td>Number of above ground stories</td>\n",
       "      <td>0.013275</td>\n",
       "    </tr>\n",
       "    <tr>\n",
       "      <th>22</th>\n",
       "      <td>Hip</td>\n",
       "      <td>0.009373</td>\n",
       "    </tr>\n",
       "    <tr>\n",
       "      <th>19</th>\n",
       "      <td>permanent_foundation</td>\n",
       "      <td>0.009325</td>\n",
       "    </tr>\n",
       "    <tr>\n",
       "      <th>11</th>\n",
       "      <td>elevated_on_large_piers</td>\n",
       "      <td>0.008958</td>\n",
       "    </tr>\n",
       "    <tr>\n",
       "      <th>15</th>\n",
       "      <td>Other</td>\n",
       "      <td>0.008209</td>\n",
       "    </tr>\n",
       "    <tr>\n",
       "      <th>26</th>\n",
       "      <td>Double-wide</td>\n",
       "      <td>0.007221</td>\n",
       "    </tr>\n",
       "    <tr>\n",
       "      <th>7</th>\n",
       "      <td>SBE - Site-built elevated building</td>\n",
       "      <td>0.007095</td>\n",
       "    </tr>\n",
       "    <tr>\n",
       "      <th>20</th>\n",
       "      <td>stacked_block_footers</td>\n",
       "      <td>0.006795</td>\n",
       "    </tr>\n",
       "    <tr>\n",
       "      <th>25</th>\n",
       "      <td>other</td>\n",
       "      <td>0.006639</td>\n",
       "    </tr>\n",
       "    <tr>\n",
       "      <th>27</th>\n",
       "      <td>Single-wide</td>\n",
       "      <td>0.005614</td>\n",
       "    </tr>\n",
       "    <tr>\n",
       "      <th>8</th>\n",
       "      <td>Other</td>\n",
       "      <td>0.005261</td>\n",
       "    </tr>\n",
       "    <tr>\n",
       "      <th>18</th>\n",
       "      <td>engineered_bracing</td>\n",
       "      <td>0.004745</td>\n",
       "    </tr>\n",
       "    <tr>\n",
       "      <th>14</th>\n",
       "      <td>split-level</td>\n",
       "      <td>0.003036</td>\n",
       "    </tr>\n",
       "    <tr>\n",
       "      <th>9</th>\n",
       "      <td>crawlspace</td>\n",
       "      <td>0.002552</td>\n",
       "    </tr>\n",
       "    <tr>\n",
       "      <th>13</th>\n",
       "      <td>slab_on_grade</td>\n",
       "      <td>0.002097</td>\n",
       "    </tr>\n",
       "    <tr>\n",
       "      <th>6</th>\n",
       "      <td>MHU - Manufactured home</td>\n",
       "      <td>0.001915</td>\n",
       "    </tr>\n",
       "    <tr>\n",
       "      <th>10</th>\n",
       "      <td>elevated_on_breakaway_walls</td>\n",
       "      <td>0.001013</td>\n",
       "    </tr>\n",
       "    <tr>\n",
       "      <th>23</th>\n",
       "      <td>Monoslope</td>\n",
       "      <td>0.000920</td>\n",
       "    </tr>\n",
       "    <tr>\n",
       "      <th>24</th>\n",
       "      <td>choice3</td>\n",
       "      <td>0.000267</td>\n",
       "    </tr>\n",
       "    <tr>\n",
       "      <th>28</th>\n",
       "      <td>other</td>\n",
       "      <td>0.000000</td>\n",
       "    </tr>\n",
       "  </tbody>\n",
       "</table>\n",
       "</div>"
      ],
      "text/plain": [
       "                                                 name  importance\n",
       "2                          Visible Damaged Components    0.151648\n",
       "5                                            Latitude    0.148884\n",
       "30                                    dist_from_shore    0.136423\n",
       "4                                           Longitude    0.113081\n",
       "29                                      rand_features    0.111516\n",
       "1   Elevation of lowest horizontal structural comp...    0.107005\n",
       "3                               Damage State Comments    0.053243\n",
       "17                       engineered_anchorage_devices    0.020255\n",
       "16                                     chassis_system    0.019205\n",
       "21                                              Gable    0.017701\n",
       "12                                 elevated_on_stilts    0.016728\n",
       "0                      Number of above ground stories    0.013275\n",
       "22                                                Hip    0.009373\n",
       "19                               permanent_foundation    0.009325\n",
       "11                            elevated_on_large_piers    0.008958\n",
       "15                                              Other    0.008209\n",
       "26                                        Double-wide    0.007221\n",
       "7                  SBE - Site-built elevated building    0.007095\n",
       "20                              stacked_block_footers    0.006795\n",
       "25                                              other    0.006639\n",
       "27                                        Single-wide    0.005614\n",
       "8                                               Other    0.005261\n",
       "18                                 engineered_bracing    0.004745\n",
       "14                                        split-level    0.003036\n",
       "9                                          crawlspace    0.002552\n",
       "13                                      slab_on_grade    0.002097\n",
       "6                             MHU - Manufactured home    0.001915\n",
       "10                        elevated_on_breakaway_walls    0.001013\n",
       "23                                          Monoslope    0.000920\n",
       "24                                            choice3    0.000267\n",
       "28                                              other    0.000000"
      ]
     },
     "execution_count": 8,
     "metadata": {},
     "output_type": "execute_result"
    }
   ],
   "source": [
    "from sklearn.ensemble import RandomForestClassifier\n",
    "\n",
    "clf = RandomForestClassifier()\n",
    "clf.fit(x_scaled,y)\n",
    "\n",
    "importances = list(zip(x.columns,clf.feature_importances_))\n",
    "feature_importances = pd.DataFrame(importances,columns=['name','importance'])\n",
    "feature_importances.sort_values(by=['importance'],ascending=False)"
   ]
  },
  {
   "cell_type": "code",
   "execution_count": 13,
   "metadata": {},
   "outputs": [],
   "source": [
    "feature_plot = feature_importances[feature_importances['importance'] > .09] "
   ]
  },
  {
   "cell_type": "code",
   "execution_count": 15,
   "metadata": {},
   "outputs": [
    {
     "data": {
      "image/png": "[encoded data removed]",
      "text/plain": [
       "<Figure size 432x288 with 1 Axes>"
      ]
     },
     "metadata": {
      "needs_background": "light"
     },
     "output_type": "display_data"
    }
   ],
   "source": [
    "plot = feature_plot.plot.bar(x='name',y='importance')\n",
    "plot.get_figure().savefig('michael imoprtances.png')"
   ]
  },
  {
   "cell_type": "code",
   "execution_count": 9,
   "metadata": {},
   "outputs": [],
   "source": [
    "# from matplotlib import pyplot as plt\n",
    "# from sklearn import tree\n",
    "\n",
    "# # for tree_in_forest in clf.estimators_:\n",
    "# plt.figure(figsize=(20,20))\n",
    "# _ = tree.plot_tree(clf.estimators_[0],\n",
    "#                feature_names = x.columns,\n",
    "#                filled = True)"
   ]
  },
  {
   "cell_type": "markdown",
   "metadata": {},
   "source": [
    "X Make a random column to test for statistical significance\n",
    "\n",
    "maybe don't use visible damaged components because they don't have this information.  Generally try to figure out features that could be used BEFORE going to the house.  Look at footprint of structure, how many houses between this and coastline, housing density?\n",
    "\n",
    "X look at distance from shore possibly using shape files?\n",
    "\n",
    "X probabilities of being in a damage state\n",
    "\n",
    "X Normalize the dataframe so as not to give any features an advantage"
   ]
  }
 ],
 "metadata": {
  "kernelspec": {
   "display_name": "Python 3",
   "language": "python",
   "name": "python3"
  },
  "language_info": {
   "codemirror_mode": {
    "name": "ipython",
    "version": 3
   },
   "file_extension": ".py",
   "mimetype": "text/x-python",
   "name": "python",
   "nbconvert_exporter": "python",
   "pygments_lexer": "ipython3",
   "version": "3.7.2"
  }
 },
 "nbformat": 4,
 "nbformat_minor": 2
}
