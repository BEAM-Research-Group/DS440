{
 "cells": [
  {
   "cell_type": "code",
   "execution_count": 1,
   "metadata": {},
   "outputs": [
    {
     "name": "stderr",
     "output_type": "stream",
     "text": [
      "/Library/Frameworks/Python.framework/Versions/3.7/lib/python3.7/site-packages/requests/__init__.py:91: RequestsDependencyWarning: urllib3 (1.26.3) or chardet (3.0.4) doesn't match a supported version!\n",
      "  RequestsDependencyWarning)\n"
     ]
    }
   ],
   "source": [
    "import pandas as pd\n",
    "import numpy as np\n",
    "from tensorflow import one_hot\n",
    "from sklearn.preprocessing import MinMaxScaler\n",
    "from sklearn.model_selection import train_test_split\n",
    "from sklearn.metrics import log_loss, accuracy_score"
   ]
  },
  {
   "cell_type": "code",
   "execution_count": 2,
   "metadata": {},
   "outputs": [],
   "source": [
    "df = pd.read_csv('HH_NSF_CMMI1759996_BuildingAssessments.csv')"
   ]
  },
  {
   "cell_type": "code",
   "execution_count": 3,
   "metadata": {},
   "outputs": [],
   "source": [
    "x = df[['latitude', 'longitude', 'damage_indicator', 'building_address_sub_thoroughfare','year_built', 'first_floor_elevation', 'garage_door']]\n",
    "y = df['overall_building_condition']"
   ]
  },
  {
   "cell_type": "code",
   "execution_count": 4,
   "metadata": {},
   "outputs": [],
   "source": [
    "x = x.fillna(0)"
   ]
  },
  {
   "cell_type": "code",
   "execution_count": 5,
   "metadata": {},
   "outputs": [],
   "source": [
    "x['year_built'] = x['year_built'].apply(lambda x: 2021 - x)\n",
    "\n",
    "def door(door):\n",
    "    if door == 'yes':\n",
    "        return 1\n",
    "    return 0\n",
    "\n",
    "x['garage_door'] = x['garage_door'].apply(lambda variable: door(variable))\n",
    "\n",
    "def thorough_cleaning(var):\n",
    "    if not isinstance(var, int):\n",
    "        return 0\n",
    "    return var\n",
    "\n",
    "x['building_address_sub_thoroughfare'] = x['building_address_sub_thoroughfare'].apply(lambda var: thorough_cleaning(var))\n",
    "\n",
    "x['rand_features'] = np.random.randn(len(x))"
   ]
  },
  {
   "cell_type": "code",
   "execution_count": 6,
   "metadata": {},
   "outputs": [],
   "source": [
    "import geopandas as gpd\n",
    "from shapely.geometry import Point, Polygon\n",
    "\n",
    "# https://catalog.data.gov/dataset/tiger-line-shapefile-2017-state-texas-current-place-state-based\n",
    "\n",
    "street_map = gpd.read_file('/Users/manikmukherjee/Downloads/cb_2018_us_state_500k/cb_2018_us_state_500k.shp')\n",
    "geometry = [Point(xy) for xy in zip(x[\"longitude\"], x[\"latitude\"])]\n",
    "\n",
    "new = gpd.GeoDataFrame(geometry,columns=['geometry'])\n",
    "new.crs = \"EPSG:3081\"\n",
    "new.to_crs(epsg=3081, inplace=True)\n",
    "\n",
    "street_map = street_map.iloc[15,:]\n",
    "street_map = gpd.GeoSeries(street_map.geometry)\n",
    "\n",
    "#find distance from all of the points to the shapfile in meters\n",
    "x['dist_from_shore'] = new.geometry.apply(lambda x: street_map.boundary.distance(x))"
   ]
  },
  {
   "cell_type": "code",
   "execution_count": 7,
   "metadata": {},
   "outputs": [],
   "source": [
    "y = one_hot(y,5)\n",
    "y = y.numpy()"
   ]
  },
  {
   "cell_type": "code",
   "execution_count": 8,
   "metadata": {},
   "outputs": [],
   "source": [
    "x_scaled = MinMaxScaler().fit_transform(x)"
   ]
  },
  {
   "cell_type": "code",
   "execution_count": 9,
   "metadata": {
    "scrolled": true
   },
   "outputs": [],
   "source": [
    "xtrain, xtest, ytrain, ytest = train_test_split(x,y,test_size=.2)"
   ]
  },
  {
   "cell_type": "code",
   "execution_count": 10,
   "metadata": {},
   "outputs": [
    {
     "name": "stderr",
     "output_type": "stream",
     "text": [
      "/Library/Frameworks/Python.framework/Versions/3.7/lib/python3.7/site-packages/sklearn/ensemble/forest.py:245: FutureWarning: The default value of n_estimators will change from 10 in version 0.20 to 100 in 0.22.\n",
      "  \"10 in version 0.20 to 100 in 0.22.\", FutureWarning)\n"
     ]
    },
    {
     "data": {
      "text/plain": [
       "(2.9270149489580572, 0.1652542372881356)"
      ]
     },
     "execution_count": 10,
     "metadata": {},
     "output_type": "execute_result"
    }
   ],
   "source": [
    "from sklearn.ensemble import RandomForestClassifier\n",
    "\n",
    "clf = RandomForestClassifier(max_depth=5, min_samples_leaf=2)\n",
    "clf.fit(xtrain,ytrain)\n",
    "\n",
    "prediction = clf.predict(xtest)\n",
    "log_loss(prediction, ytest), accuracy_score(prediction,ytest)"
   ]
  },
  {
   "cell_type": "code",
   "execution_count": 11,
   "metadata": {},
   "outputs": [
    {
     "data": {
      "text/html": [
       "<div>\n",
       "<style scoped>\n",
       "    .dataframe tbody tr th:only-of-type {\n",
       "        vertical-align: middle;\n",
       "    }\n",
       "\n",
       "    .dataframe tbody tr th {\n",
       "        vertical-align: top;\n",
       "    }\n",
       "\n",
       "    .dataframe thead th {\n",
       "        text-align: right;\n",
       "    }\n",
       "</style>\n",
       "<table border=\"1\" class=\"dataframe\">\n",
       "  <thead>\n",
       "    <tr style=\"text-align: right;\">\n",
       "      <th></th>\n",
       "      <th>name</th>\n",
       "      <th>importance</th>\n",
       "    </tr>\n",
       "  </thead>\n",
       "  <tbody>\n",
       "    <tr>\n",
       "      <th>1</th>\n",
       "      <td>longitude</td>\n",
       "      <td>0.273578</td>\n",
       "    </tr>\n",
       "    <tr>\n",
       "      <th>4</th>\n",
       "      <td>year_built</td>\n",
       "      <td>0.238648</td>\n",
       "    </tr>\n",
       "    <tr>\n",
       "      <th>8</th>\n",
       "      <td>dist_from_shore</td>\n",
       "      <td>0.177528</td>\n",
       "    </tr>\n",
       "    <tr>\n",
       "      <th>0</th>\n",
       "      <td>latitude</td>\n",
       "      <td>0.146881</td>\n",
       "    </tr>\n",
       "    <tr>\n",
       "      <th>7</th>\n",
       "      <td>rand_features</td>\n",
       "      <td>0.071020</td>\n",
       "    </tr>\n",
       "    <tr>\n",
       "      <th>5</th>\n",
       "      <td>first_floor_elevation</td>\n",
       "      <td>0.059228</td>\n",
       "    </tr>\n",
       "    <tr>\n",
       "      <th>6</th>\n",
       "      <td>garage_door</td>\n",
       "      <td>0.028249</td>\n",
       "    </tr>\n",
       "    <tr>\n",
       "      <th>2</th>\n",
       "      <td>damage_indicator</td>\n",
       "      <td>0.004867</td>\n",
       "    </tr>\n",
       "    <tr>\n",
       "      <th>3</th>\n",
       "      <td>building_address_sub_thoroughfare</td>\n",
       "      <td>0.000000</td>\n",
       "    </tr>\n",
       "  </tbody>\n",
       "</table>\n",
       "</div>"
      ],
      "text/plain": [
       "                                name  importance\n",
       "1                          longitude    0.273578\n",
       "4                         year_built    0.238648\n",
       "8                    dist_from_shore    0.177528\n",
       "0                           latitude    0.146881\n",
       "7                      rand_features    0.071020\n",
       "5              first_floor_elevation    0.059228\n",
       "6                        garage_door    0.028249\n",
       "2                   damage_indicator    0.004867\n",
       "3  building_address_sub_thoroughfare    0.000000"
      ]
     },
     "execution_count": 11,
     "metadata": {},
     "output_type": "execute_result"
    }
   ],
   "source": [
    "importances = list(zip(x.columns,clf.feature_importances_))\n",
    "feature_importances = pd.DataFrame(importances,columns=['name','importance'])\n",
    "feature_importances.sort_values(by=['importance'],ascending=False)"
   ]
  },
  {
   "cell_type": "code",
   "execution_count": 15,
   "metadata": {},
   "outputs": [
    {
     "data": {
      "image/png": "[encoded data removed]",
      "text/plain": [
       "<Figure size 432x288 with 1 Axes>"
      ]
     },
     "metadata": {
      "needs_background": "light"
     },
     "output_type": "display_data"
    }
   ],
   "source": [
    "plot = feature_importances.plot.bar(x='name',y='importance')\n",
    "plot.get_figure().savefig('harvey importances.png')"
   ]
  }
 ],
 "metadata": {
  "kernelspec": {
   "display_name": "Python 3",
   "language": "python",
   "name": "python3"
  },
  "language_info": {
   "codemirror_mode": {
    "name": "ipython",
    "version": 3
   },
   "file_extension": ".py",
   "mimetype": "text/x-python",
   "name": "python",
   "nbconvert_exporter": "python",
   "pygments_lexer": "ipython3",
   "version": "3.7.2"
  }
 },
 "nbformat": 4,
 "nbformat_minor": 2
}
